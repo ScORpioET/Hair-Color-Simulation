{
 "cells": [
  {
   "cell_type": "code",
   "execution_count": 1,
   "id": "a4a78a26",
   "metadata": {},
   "outputs": [
    {
     "name": "stdout",
     "output_type": "stream",
     "text": [
      "importing Jupyter notebook from utils.ipynb\n"
     ]
    }
   ],
   "source": [
    "import os\n",
    "import torch\n",
    "import numpy as np\n",
    "from PIL import Image\n",
    "import matplotlib.pyplot as plt\n",
    "from glob import glob\n",
    "import import_ipynb\n",
    "import utils\n",
    "from config import IMAGE_RESIZE\n",
    " \n",
    "class FaceData(torch.utils.data.Dataset):\n",
    "    def __init__(self, imgs_path, masks_path, transforms=None):\n",
    "        self.transforms = transforms # 数据集的预处理变形参数\n",
    "        \n",
    "        self.imgs_path = imgs_path\n",
    "        self.masks_path = masks_path\n",
    " \n",
    "    # 根据idx对应读取待训练图片以及掩码图片\n",
    "    def __getitem__(self, idx):\n",
    "        # 根据idx针对img与mask组合路径\n",
    "        img_path = self.imgs_path[idx]\n",
    "        mask_path = self.masks_path[idx]\n",
    "        \n",
    "        image = Image.open(img_path).convert('RGB').resize((512, 512))\n",
    "        mask = Image.open(mask_path).convert('L')\n",
    "        \n",
    "        # 变形transform\n",
    "        if self.transforms is None:\n",
    "            img, target = utils.my_segmentation_transform(image, mask, IMAGE_RESIZE)\n",
    "        else:\n",
    "            img = self.transforms(image)\n",
    "            target = self.transforms(mask)\n",
    "        return img, target\n",
    " \n",
    "    def __len__(self):\n",
    "        return len(self.imgs_path)"
   ]
  }
 ],
 "metadata": {
  "kernelspec": {
   "display_name": "Python 3 (ipykernel)",
   "language": "python",
   "name": "python3"
  },
  "language_info": {
   "codemirror_mode": {
    "name": "ipython",
    "version": 3
   },
   "file_extension": ".py",
   "mimetype": "text/x-python",
   "name": "python",
   "nbconvert_exporter": "python",
   "pygments_lexer": "ipython3",
   "version": "3.7.9"
  }
 },
 "nbformat": 4,
 "nbformat_minor": 5
}
