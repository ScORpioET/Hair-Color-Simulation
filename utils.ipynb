{
 "cells": [
  {
   "cell_type": "code",
   "execution_count": null,
   "id": "4134a4e8",
   "metadata": {},
   "outputs": [],
   "source": [
    "import matplotlib.pyplot as plt\n",
    "import torch\n",
    "import random\n",
    "from torchvision import transforms\n",
    "import torchvision.transforms.functional as F\n",
    "from glob import glob\n",
    "import os\n",
    "import time\n",
    "import numpy as np"
   ]
  },
  {
   "cell_type": "code",
   "execution_count": null,
   "id": "10183865",
   "metadata": {},
   "outputs": [],
   "source": [
    "def get_path_list(root):\n",
    "    imgs = []\n",
    "    masks = []\n",
    "    root = 'dataset/CelebAMask-HQ'\n",
    "    imgs.extend(glob(os.path.join(f'{root}/images', '*.jpg')))\n",
    "    for img in imgs:\n",
    "        image_name = img.split('\\\\')[1]\n",
    "        name ,_ = image_name.split('.')\n",
    "        while(len(name)<5):\n",
    "            name = \"0\" + name\n",
    "        folder = int(name) // 2000\n",
    "        if not os.path.exists(os.path.join(f'{root}/masks/', f'{str(folder)}/{name}_hair.png')):\n",
    "            masks.extend(glob(os.path.join(f'{root}/masks/bald.png')))\n",
    "        else:\n",
    "            masks.extend(glob(os.path.join(f'{root}/masks/', f'{str(folder)}/{name}_hair.png')))\n",
    "    \n",
    "    return imgs, masks"
   ]
  },
  {
   "cell_type": "code",
   "execution_count": null,
   "id": "ad479444",
   "metadata": {},
   "outputs": [],
   "source": [
    "def my_segmentation_transform(input, target, size):\n",
    "    i, j, h, w = transforms.RandomCrop.get_params(input, (size, size))\n",
    "    input = F.crop(input, i, j, h, w)\n",
    "    target = F.crop(target, i, j, h, w)\n",
    "    if random.random() > 0.5:\n",
    "        input = F.hflip(input)\n",
    "        target = F.hflip(target)\n",
    "    input, target = F.to_tensor(input), F.to_tensor(target)\n",
    "    return input, target"
   ]
  },
  {
   "cell_type": "code",
   "execution_count": null,
   "id": "ec3b9f1c",
   "metadata": {},
   "outputs": [],
   "source": [
    "def save_loss_plot(out_dir, train_loss, val_loss):\n",
    "    figure_1, train_ax = plt.subplots()\n",
    "    figure_2, valid_ax = plt.subplots()\n",
    "    train_ax.plot(train_loss, color='tab:blue')\n",
    "    train_ax.set_xlabel('iterations')\n",
    "    train_ax.set_ylabel('train loss')\n",
    "    valid_ax.plot(val_loss, color='tab:red')\n",
    "    valid_ax.set_xlabel('iterations')\n",
    "    valid_ax.set_ylabel('validation loss')\n",
    "    figure_1.savefig(f\"{out_dir}/train_loss.png\")\n",
    "    figure_2.savefig(f\"{out_dir}/valid_loss.png\")\n",
    "    print('SAVING PLOTS COMPLETE...')\n",
    "    \n",
    "    plt.close('all')"
   ]
  }
 ],
 "metadata": {
  "kernelspec": {
   "display_name": "Python 3 (ipykernel)",
   "language": "python",
   "name": "python3"
  },
  "language_info": {
   "codemirror_mode": {
    "name": "ipython",
    "version": 3
   },
   "file_extension": ".py",
   "mimetype": "text/x-python",
   "name": "python",
   "nbconvert_exporter": "python",
   "pygments_lexer": "ipython3",
   "version": "3.7.9"
  }
 },
 "nbformat": 4,
 "nbformat_minor": 5
}
